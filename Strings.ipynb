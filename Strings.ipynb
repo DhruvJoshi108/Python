{
  "nbformat": 4,
  "nbformat_minor": 0,
  "metadata": {
    "colab": {
      "provenance": []
    },
    "kernelspec": {
      "name": "python3",
      "display_name": "Python 3"
    },
    "language_info": {
      "name": "python"
    }
  },
  "cells": [
    {
      "cell_type": "code",
      "execution_count": null,
      "metadata": {
        "colab": {
          "base_uri": "https://localhost:8080/"
        },
        "id": "prlr-kYyX8R1",
        "outputId": "a2e7b777-4b01-45cd-829d-a8e62575708e"
      },
      "outputs": [
        {
          "output_type": "stream",
          "name": "stdout",
          "text": [
            "25\n"
          ]
        }
      ],
      "source": [
        "a = \"Dhruv , Bsc data science \"\n",
        "print(len(a))\n"
      ]
    },
    {
      "cell_type": "code",
      "source": [
        "a = \"Dhruv , Bsc data science \"\n",
        "print(a[4])\n"
      ],
      "metadata": {
        "colab": {
          "base_uri": "https://localhost:8080/"
        },
        "id": "hMa55na4YLs3",
        "outputId": "ca345848-97fc-4578-f387-a9c885b7839f"
      },
      "execution_count": null,
      "outputs": [
        {
          "output_type": "stream",
          "name": "stdout",
          "text": [
            "v\n"
          ]
        }
      ]
    },
    {
      "cell_type": "code",
      "source": [
        "b = 'the vest things in life are free'\n",
        "print('free'in b)\n",
        "print('best'in b)"
      ],
      "metadata": {
        "colab": {
          "base_uri": "https://localhost:8080/"
        },
        "id": "T48SCTWRYzHC",
        "outputId": "f0c6c6bf-09e4-45cd-c296-23bf8927121f"
      },
      "execution_count": null,
      "outputs": [
        {
          "output_type": "stream",
          "name": "stdout",
          "text": [
            "True\n",
            "False\n"
          ]
        }
      ]
    },
    {
      "cell_type": "code",
      "source": [
        "c = 'hello world          '\n",
        "print(c[2:4])"
      ],
      "metadata": {
        "colab": {
          "base_uri": "https://localhost:8080/"
        },
        "id": "WXYZCVm1ZYOh",
        "outputId": "73e7f762-c3b7-4f66-9632-7b2c6d1c1891"
      },
      "execution_count": null,
      "outputs": [
        {
          "output_type": "stream",
          "name": "stdout",
          "text": [
            "ll\n"
          ]
        }
      ]
    },
    {
      "cell_type": "code",
      "source": [
        "\n",
        "print(c[:5])\n",
        "print(c[6:11])\n",
        "print(c[-6:])\n",
        "print(c[:])"
      ],
      "metadata": {
        "colab": {
          "base_uri": "https://localhost:8080/"
        },
        "id": "NCWmv9V0aEWL",
        "outputId": "e530902c-934e-4e0b-cc4d-94c1d26f583f"
      },
      "execution_count": null,
      "outputs": [
        {
          "output_type": "stream",
          "name": "stdout",
          "text": [
            "hello\n",
            "world\n",
            " world\n",
            "hello world\n"
          ]
        }
      ]
    },
    {
      "cell_type": "code",
      "source": [
        "print(c.upper())\n",
        "# if you need the string to be in upper case\n"
      ],
      "metadata": {
        "colab": {
          "base_uri": "https://localhost:8080/"
        },
        "id": "DKbq-ejtaS_x",
        "outputId": "6ee71133-8f2b-49fc-9519-fb3d8f4977dd"
      },
      "execution_count": null,
      "outputs": [
        {
          "output_type": "stream",
          "name": "stdout",
          "text": [
            "HELLO WORLD\n"
          ]
        }
      ]
    },
    {
      "cell_type": "code",
      "source": [
        "d = \"HELLO WORLD\"\n",
        "print(d.lower())\n",
        "# if you need the string to be in lower case\n"
      ],
      "metadata": {
        "colab": {
          "base_uri": "https://localhost:8080/"
        },
        "id": "eWsV0K6Abxed",
        "outputId": "2aec1690-7d63-4150-cead-7f7878e604e1"
      },
      "execution_count": null,
      "outputs": [
        {
          "output_type": "stream",
          "name": "stdout",
          "text": [
            "hello world\n"
          ]
        }
      ]
    },
    {
      "cell_type": "code",
      "source": [
        "print(c.strip())\n",
        "# it removes the extra space from both sides\n"
      ],
      "metadata": {
        "colab": {
          "base_uri": "https://localhost:8080/"
        },
        "id": "sa1oBakXcBY8",
        "outputId": "c7d7db06-9c64-42c0-a9e2-bb9054c6eeca"
      },
      "execution_count": null,
      "outputs": [
        {
          "output_type": "stream",
          "name": "stdout",
          "text": [
            "hello world\n"
          ]
        }
      ]
    },
    {
      "cell_type": "code",
      "source": [
        "e  = 'hello , hemant'\n",
        "print(e.replace(\"h\" , 'd'))"
      ],
      "metadata": {
        "colab": {
          "base_uri": "https://localhost:8080/"
        },
        "id": "IK3Kw5w5cTGi",
        "outputId": "faf503ba-fe66-4f50-d294-8552966e11c0"
      },
      "execution_count": null,
      "outputs": [
        {
          "output_type": "stream",
          "name": "stdout",
          "text": [
            "dello , demant\n"
          ]
        }
      ]
    },
    {
      "cell_type": "code",
      "source": [
        "print(e.split(\" , \"))"
      ],
      "metadata": {
        "colab": {
          "base_uri": "https://localhost:8080/"
        },
        "id": "ba-mUIIMeOC1",
        "outputId": "fa851ed6-ba29-44dc-fe3a-d757666caf02"
      },
      "execution_count": null,
      "outputs": [
        {
          "output_type": "stream",
          "name": "stdout",
          "text": [
            "['hello', 'hemant']\n"
          ]
        }
      ]
    },
    {
      "cell_type": "code",
      "source": [
        "  a = 'Hello'\n",
        "  b =  'World'\n",
        "\n",
        "  c = a + b\n",
        "  print(d)\n",
        "  d = a + ' ' + b"
      ],
      "metadata": {
        "id": "pQlIAyWEfjyq",
        "colab": {
          "base_uri": "https://localhost:8080/"
        },
        "outputId": "419f58bf-e833-4a68-a263-4281963fa69f"
      },
      "execution_count": null,
      "outputs": [
        {
          "output_type": "stream",
          "name": "stdout",
          "text": [
            "Hello World\n"
          ]
        }
      ]
    },
    {
      "cell_type": "code",
      "source": [
        "age  = 18\n",
        "e =  \"My name is Dhruv , I am \" + age\n",
        "print(e)"
      ],
      "metadata": {
        "colab": {
          "base_uri": "https://localhost:8080/",
          "height": 176
        },
        "id": "0wQoNPsfAm1Y",
        "outputId": "45f21662-9e64-469e-f6b1-da3a39665340"
      },
      "execution_count": null,
      "outputs": [
        {
          "output_type": "error",
          "ename": "TypeError",
          "evalue": "can only concatenate str (not \"int\") to str",
          "traceback": [
            "\u001b[0;31m---------------------------------------------------------------------------\u001b[0m",
            "\u001b[0;31mTypeError\u001b[0m                                 Traceback (most recent call last)",
            "\u001b[0;32m<ipython-input-18-7f2871167191>\u001b[0m in \u001b[0;36m<cell line: 2>\u001b[0;34m()\u001b[0m\n\u001b[1;32m      1\u001b[0m \u001b[0mage\u001b[0m  \u001b[0;34m=\u001b[0m \u001b[0;36m18\u001b[0m\u001b[0;34m\u001b[0m\u001b[0;34m\u001b[0m\u001b[0m\n\u001b[0;32m----> 2\u001b[0;31m \u001b[0me\u001b[0m \u001b[0;34m=\u001b[0m  \u001b[0;34m\"My name is Dhruv , I am \"\u001b[0m \u001b[0;34m+\u001b[0m \u001b[0mage\u001b[0m\u001b[0;34m\u001b[0m\u001b[0;34m\u001b[0m\u001b[0m\n\u001b[0m\u001b[1;32m      3\u001b[0m \u001b[0mprint\u001b[0m\u001b[0;34m(\u001b[0m\u001b[0me\u001b[0m\u001b[0;34m)\u001b[0m\u001b[0;34m\u001b[0m\u001b[0;34m\u001b[0m\u001b[0m\n",
            "\u001b[0;31mTypeError\u001b[0m: can only concatenate str (not \"int\") to str"
          ]
        }
      ]
    },
    {
      "cell_type": "code",
      "source": [
        "age  = 18\n",
        "e =  f\"My name is Dhruv , I am {age}\"\n",
        "print(e)"
      ],
      "metadata": {
        "colab": {
          "base_uri": "https://localhost:8080/"
        },
        "id": "jm8lf_4jCYfy",
        "outputId": "9bd442cc-01d8-43bd-b2cc-4e74b1966c54"
      },
      "execution_count": null,
      "outputs": [
        {
          "output_type": "stream",
          "name": "stdout",
          "text": [
            "My name is Dhruv , I am 18\n"
          ]
        }
      ]
    },
    {
      "cell_type": "code",
      "source": [
        "price = 100\n",
        "g = f\"The price is {price} rupees\"\n",
        "print(g)"
      ],
      "metadata": {
        "colab": {
          "base_uri": "https://localhost:8080/"
        },
        "id": "vE-SX_gLDBwh",
        "outputId": "f060ee76-1c23-4663-c443-8c9ae3816af2"
      },
      "execution_count": null,
      "outputs": [
        {
          "output_type": "stream",
          "name": "stdout",
          "text": [
            "The price is 100 rupees\n"
          ]
        }
      ]
    },
    {
      "cell_type": "code",
      "source": [
        "price = 100\n",
        "g = f\"The price is {price:.2f} rupees\"\n",
        "print(g)\n",
        "\n"
      ],
      "metadata": {
        "colab": {
          "base_uri": "https://localhost:8080/"
        },
        "id": "OsVonEqvD7Xv",
        "outputId": "958264ff-1f67-4e77-ecc3-60a1f386c520"
      },
      "execution_count": null,
      "outputs": [
        {
          "output_type": "stream",
          "name": "stdout",
          "text": [
            "The price is 100.00 rupees\n"
          ]
        }
      ]
    },
    {
      "cell_type": "code",
      "source": [
        "h = f\"the price is {20*69} rupees\"\n",
        "print(h)"
      ],
      "metadata": {
        "colab": {
          "base_uri": "https://localhost:8080/"
        },
        "id": "qpSDa_JFESkG",
        "outputId": "afa499dd-21df-424f-b95f-bc8638c43d97"
      },
      "execution_count": null,
      "outputs": [
        {
          "output_type": "stream",
          "name": "stdout",
          "text": [
            "the price is 1380 rupees\n"
          ]
        }
      ]
    },
    {
      "cell_type": "code",
      "source": [
        " k = 'hello Dhruv here , i am from uttarakhand'\n",
        " r = k.capitalize() # It capitalize the first letter upper case in the sentence\n",
        " print(r)"
      ],
      "metadata": {
        "colab": {
          "base_uri": "https://localhost:8080/"
        },
        "id": "zlrVueyIE11x",
        "outputId": "e4de4acf-d795-4933-9fc3-185377256b3b"
      },
      "execution_count": null,
      "outputs": [
        {
          "output_type": "stream",
          "name": "stdout",
          "text": [
            "Hello dhruv here , i am from uttarakhand\n"
          ]
        }
      ]
    },
    {
      "cell_type": "code",
      "source": [
        " k = 'hello Dhruv here , i am from uttarakhand'\n",
        " m = k.title()  # It turns first letter of each word in upper case\n",
        " print(m)"
      ],
      "metadata": {
        "colab": {
          "base_uri": "https://localhost:8080/"
        },
        "id": "zk8gDsEBGq51",
        "outputId": "0cd13154-be96-4c3b-87a1-b289225ca622"
      },
      "execution_count": null,
      "outputs": [
        {
          "output_type": "stream",
          "name": "stdout",
          "text": [
            "Hello Dhruv Here , I Am From Uttarakhand\n"
          ]
        }
      ]
    },
    {
      "cell_type": "code",
      "source": [
        "q = \"I love apples, apple are my favorite fruit , apples are very rich in nutritions\"\n",
        "w = q.count(\"apple\")\n",
        "print(w)"
      ],
      "metadata": {
        "colab": {
          "base_uri": "https://localhost:8080/"
        },
        "id": "hqg-mL9PHSWJ",
        "outputId": "ca3e28a1-81d6-46db-e398-d347208d7871"
      },
      "execution_count": null,
      "outputs": [
        {
          "output_type": "stream",
          "name": "stdout",
          "text": [
            "3\n"
          ]
        }
      ]
    },
    {
      "cell_type": "code",
      "source": [
        " op = 'i am dhruv i am from uttarakhand i like to climb in tree and i also like to play with my cows i love my cows we have 4 cows in my villege almost everyone have cows in my area cows only eat green grass not plastic like citys cow '\n",
        " cow = op.count('cow') #  It shows how many times that word repeated in the string\n",
        " print(cow)"
      ],
      "metadata": {
        "colab": {
          "base_uri": "https://localhost:8080/"
        },
        "id": "11-8cL17INvB",
        "outputId": "dae4be94-fd34-4e49-9057-e31a1064dccf"
      },
      "execution_count": null,
      "outputs": [
        {
          "output_type": "stream",
          "name": "stdout",
          "text": [
            "6\n"
          ]
        }
      ]
    },
    {
      "cell_type": "code",
      "source": [
        "txt  = 'I love apples, apple are my favorite fruit'\n",
        "c = txt.count(\"apple\", 7, 24) # It counts the string you gave him inside those indexes\n",
        "print(c)"
      ],
      "metadata": {
        "id": "e2A28cb7KuCL",
        "colab": {
          "base_uri": "https://localhost:8080/"
        },
        "outputId": "01e0dd4a-36cf-4181-9d66-fbb42807335a"
      },
      "execution_count": null,
      "outputs": [
        {
          "output_type": "stream",
          "name": "stdout",
          "text": [
            "2\n"
          ]
        }
      ]
    },
    {
      "cell_type": "code",
      "source": [
        "k =  'hello , welcome to my world'\n",
        "h = k.find('welcome') # It shows the index of the first letter of the string you gave him\n",
        "print(h)\n"
      ],
      "metadata": {
        "colab": {
          "base_uri": "https://localhost:8080/"
        },
        "id": "RQqJn_TgoiwL",
        "outputId": "436bfae3-d54e-469b-c8af-69e3dfae9a78"
      },
      "execution_count": null,
      "outputs": [
        {
          "output_type": "stream",
          "name": "stdout",
          "text": [
            "8\n"
          ]
        }
      ]
    },
    {
      "cell_type": "code",
      "source": [
        "k =  'hello , welcome to my world'\n",
        "p = k.index('welcome')\n",
        "print(p)"
      ],
      "metadata": {
        "colab": {
          "base_uri": "https://localhost:8080/"
        },
        "id": "kr20fTyTpfFX",
        "outputId": "87b8a0c3-20c7-423c-f976-1f37e659f46e"
      },
      "execution_count": null,
      "outputs": [
        {
          "output_type": "stream",
          "name": "stdout",
          "text": [
            "8\n"
          ]
        }
      ]
    },
    {
      "cell_type": "code",
      "source": [
        "t = ('ayu', 'raju' , 'avi')\n",
        "y = \"  \".join(t)\n",
        "print(y)"
      ],
      "metadata": {
        "colab": {
          "base_uri": "https://localhost:8080/"
        },
        "id": "65rtB6qtqtPq",
        "outputId": "e813da06-bd76-403f-fabe-f59da9df7136"
      },
      "execution_count": null,
      "outputs": [
        {
          "output_type": "stream",
          "name": "stdout",
          "text": [
            "ayu  raju  avi\n"
          ]
        }
      ]
    },
    {
      "cell_type": "code",
      "source": [
        "# This query separates the everything before match the match everythig after match\n",
        "q = \"I love apple, apple are my favorite fruit , apples are very rich in nutritions\"\n",
        "w = q.partition('apple')\n",
        "print(w)"
      ],
      "metadata": {
        "colab": {
          "base_uri": "https://localhost:8080/"
        },
        "id": "xINZ4lY7schk",
        "outputId": "18e1b32d-dbba-4ed3-9def-c472be80e676"
      },
      "execution_count": null,
      "outputs": [
        {
          "output_type": "stream",
          "name": "stdout",
          "text": [
            "('I love ', 'apple', ', apple are my favorite fruit , apples are very rich in nutritions')\n"
          ]
        }
      ]
    },
    {
      "cell_type": "code",
      "source": [
        "# This function split a string into list and separate each word\n",
        "v = 'Welcome to Devbhoomi Uttarakhand'\n",
        "u = v.split()\n",
        "print(u)"
      ],
      "metadata": {
        "colab": {
          "base_uri": "https://localhost:8080/"
        },
        "id": "dMjQv4votfK5",
        "outputId": "7db9a7e3-0d4c-4a27-b3dd-9ecbc7507307"
      },
      "execution_count": null,
      "outputs": [
        {
          "output_type": "stream",
          "name": "stdout",
          "text": [
            "['Welcome', 'to', 'Devbhoomi', 'Uttarakhand']\n"
          ]
        }
      ]
    },
    {
      "cell_type": "code",
      "source": [
        "l = q.split(\" , \")\n",
        "print(l)"
      ],
      "metadata": {
        "colab": {
          "base_uri": "https://localhost:8080/"
        },
        "id": "pSJhAmOIvTLP",
        "outputId": "8a6b8eba-7228-4917-e862-43309316c8f5"
      },
      "execution_count": null,
      "outputs": [
        {
          "output_type": "stream",
          "name": "stdout",
          "text": [
            "['I love apple, apple are my favorite fruit , apples are very rich in nutritions']\n"
          ]
        }
      ]
    },
    {
      "cell_type": "code",
      "source": [
        "b = 'apple#banana#cherry#orange#custardapple#walnut'\n",
        "d = b.split('#')\n",
        "print(d)"
      ],
      "metadata": {
        "colab": {
          "base_uri": "https://localhost:8080/"
        },
        "id": "spw1XhuhwcFE",
        "outputId": "eda7f635-64dd-4690-92a1-b2ab1113372d"
      },
      "execution_count": null,
      "outputs": [
        {
          "output_type": "stream",
          "name": "stdout",
          "text": [
            "['apple', 'banana', 'cherry', 'orange', 'custardapple', 'walnut']\n"
          ]
        }
      ]
    },
    {
      "cell_type": "code",
      "source": [],
      "metadata": {
        "id": "i4G4aXhRxMn4"
      },
      "execution_count": null,
      "outputs": []
    }
  ]
}