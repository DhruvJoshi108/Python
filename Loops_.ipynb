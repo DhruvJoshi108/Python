{
  "cells": [
    {
      "cell_type": "code",
      "execution_count": null,
      "id": "bc03fd4b-d365-4ced-8d81-195dd4bf84b1",
      "metadata": {
        "id": "bc03fd4b-d365-4ced-8d81-195dd4bf84b1"
      },
      "outputs": [],
      "source": [
        "# LOOPS"
      ]
    },
    {
      "cell_type": "code",
      "execution_count": null,
      "id": "8008a235-5222-4f27-bdcb-3f6f1d530488",
      "metadata": {
        "colab": {
          "base_uri": "https://localhost:8080/"
        },
        "id": "8008a235-5222-4f27-bdcb-3f6f1d530488",
        "outputId": "eeb83ed5-a654-45e3-e4d4-336f5a4bd977"
      },
      "outputs": [
        {
          "output_type": "stream",
          "name": "stdout",
          "text": [
            "avi\n",
            "ravi\n",
            "raj\n",
            "raju\n"
          ]
        }
      ],
      "source": [
        "# Loops in python allow you to repeat a block of code multiple times. They are used when you need to perform repetitive tasks or iterate over swquences like lists, strings or ranges. Python provides 2 types of loop \"FOR LOOP\" and \"WHILE LOOP\"\n",
        "names = ['avi', 'ravi', 'raj' , 'raju']\n",
        "for name in names:\n",
        "    print(name)"
      ]
    },
    {
      "cell_type": "code",
      "execution_count": null,
      "id": "cadae104-045f-4f36-8bbb-635b2b55ab6c",
      "metadata": {
        "colab": {
          "base_uri": "https://localhost:8080/"
        },
        "id": "cadae104-045f-4f36-8bbb-635b2b55ab6c",
        "outputId": "05aad6c4-1755-4e04-b82f-8f2623d2ad86"
      },
      "outputs": [
        {
          "output_type": "stream",
          "name": "stdout",
          "text": [
            "0\n",
            "1\n",
            "2\n",
            "3\n",
            "4\n",
            "5\n",
            "6\n",
            "7\n",
            "8\n",
            "9\n"
          ]
        }
      ],
      "source": [
        "# The loop iterates over numvers from 0 to 4 (the upper bound in range() is  not included)\n",
        "for d in range(10):\n",
        "    print(d)"
      ]
    },
    {
      "cell_type": "code",
      "execution_count": null,
      "id": "7fccf4c6-c0ba-443d-843f-25920aa470ce",
      "metadata": {
        "colab": {
          "base_uri": "https://localhost:8080/"
        },
        "id": "7fccf4c6-c0ba-443d-843f-25920aa470ce",
        "outputId": "47acc522-a932-4646-8495-e32b71e1a1e3"
      },
      "outputs": [
        {
          "output_type": "stream",
          "name": "stdout",
          "text": [
            "d\n",
            "h\n",
            "r\n",
            "u\n",
            "v\n"
          ]
        }
      ],
      "source": [
        "for h in \"dhruv\":\n",
        "    print(h)"
      ]
    },
    {
      "cell_type": "code",
      "execution_count": null,
      "id": "921899eb-4c0a-47e1-85db-4a1d543b3a92",
      "metadata": {
        "colab": {
          "base_uri": "https://localhost:8080/"
        },
        "id": "921899eb-4c0a-47e1-85db-4a1d543b3a92",
        "outputId": "9d48222d-f9bb-4ac4-a686-1c625e0c1094"
      },
      "outputs": [
        {
          "output_type": "stream",
          "name": "stdout",
          "text": [
            "-10\n",
            "-9\n",
            "-8\n",
            "-7\n",
            "-6\n",
            "-5\n",
            "-4\n",
            "-3\n",
            "-2\n",
            "-1\n",
            "0\n"
          ]
        }
      ],
      "source": [
        "r = -10\n",
        "while r < 10:\n",
        "    print(r)\n",
        "    if r==0:\n",
        "        break\n",
        "    r+=1"
      ]
    },
    {
      "cell_type": "code",
      "execution_count": null,
      "id": "f0af174e-74bc-4039-b60a-3d83e0eef802",
      "metadata": {
        "colab": {
          "base_uri": "https://localhost:8080/"
        },
        "id": "f0af174e-74bc-4039-b60a-3d83e0eef802",
        "outputId": "17a9d15c-ad3a-4332-b4ef-55c7b2f8f9df"
      },
      "outputs": [
        {
          "output_type": "stream",
          "name": "stdout",
          "text": [
            "-10\n",
            "-7\n",
            "-4\n",
            "-1\n",
            "2\n",
            "5\n",
            "8\n"
          ]
        }
      ],
      "source": [
        "r = -10\n",
        "while r < 10:\n",
        "    print(r)\n",
        "    r += 3"
      ]
    },
    {
      "cell_type": "code",
      "execution_count": null,
      "id": "d475a562-0710-4813-9a80-b1c91af99c10",
      "metadata": {
        "colab": {
          "base_uri": "https://localhost:8080/"
        },
        "id": "d475a562-0710-4813-9a80-b1c91af99c10",
        "outputId": "77fc525a-e86b-4d79-e73c-660274b89fa0"
      },
      "outputs": [
        {
          "output_type": "execute_result",
          "data": {
            "text/plain": [
              "45"
            ]
          },
          "metadata": {},
          "execution_count": 28
        }
      ],
      "source": [
        "# Que 1 :- write a program to calculate the sum of all elements in a list using a for loop\n",
        "a = [1,2,3,4,5,6,7,8,9]\n",
        "sum = 0\n",
        "for number in a:\n",
        "    sum += number\n",
        "sum"
      ]
    },
    {
      "cell_type": "code",
      "execution_count": null,
      "id": "04b26e4f-7295-4084-9744-b96b1a04a16a",
      "metadata": {
        "colab": {
          "base_uri": "https://localhost:8080/"
        },
        "id": "04b26e4f-7295-4084-9744-b96b1a04a16a",
        "outputId": "c7bdc937-3302-4960-e31d-38609bee4906"
      },
      "outputs": [
        {
          "output_type": "stream",
          "name": "stdout",
          "text": [
            "The maximum number in the list is: 9\n"
          ]
        }
      ],
      "source": [
        "# Que 2 :- Write a program to find the maximum number in a list using for loop python\n",
        "def find_max_number(numbers):\n",
        "    max_number = numbers[0]\n",
        "    for number in numbers:\n",
        "        if number > max_number:\n",
        "            max_number = number\n",
        "    return max_number\n",
        "\n",
        "# Example usage:\n",
        "my_list = [3, 5, 7, 2, 8, 9, 1]\n",
        "print(\"The maximum number in the list is:\", find_max_number(my_list))\n",
        "# Home work to tommorow\n"
      ]
    },
    {
      "cell_type": "code",
      "execution_count": null,
      "id": "0c0fa2e9-4425-48d9-8c6b-e3d1ac0e4276",
      "metadata": {
        "colab": {
          "base_uri": "https://localhost:8080/"
        },
        "id": "0c0fa2e9-4425-48d9-8c6b-e3d1ac0e4276",
        "outputId": "7c64ae2c-f8a5-43cc-f095-3fc5803d704c"
      },
      "outputs": [
        {
          "output_type": "stream",
          "name": "stdout",
          "text": [
            "0\n",
            "2\n",
            "4\n",
            "6\n",
            "8\n",
            "10\n"
          ]
        }
      ],
      "source": [
        "# Write a program to print even numbers from 0 to 10\n",
        "i = 0\n",
        "while(i<=10):\n",
        "    print(i)\n",
        "    i = i+2\n"
      ]
    },
    {
      "cell_type": "code",
      "execution_count": null,
      "id": "a9f969eb-0216-40f7-8c51-4b290811c10e",
      "metadata": {
        "colab": {
          "base_uri": "https://localhost:8080/"
        },
        "id": "a9f969eb-0216-40f7-8c51-4b290811c10e",
        "outputId": "32cdd51f-d488-4025-ec85-86cc51f996b7"
      },
      "outputs": [
        {
          "output_type": "stream",
          "name": "stdout",
          "text": [
            "1\n",
            "3\n",
            "5\n",
            "7\n",
            "9\n"
          ]
        }
      ],
      "source": [
        "# Write a program to print even numbers from 1 to 10\n",
        "i = 1\n",
        "while(i<=10):\n",
        "    print(i)\n",
        "    i = i+2"
      ]
    },
    {
      "cell_type": "code",
      "execution_count": null,
      "id": "5756b2f6-de13-41e4-948f-dfa1b6043ca1",
      "metadata": {
        "colab": {
          "base_uri": "https://localhost:8080/"
        },
        "id": "5756b2f6-de13-41e4-948f-dfa1b6043ca1",
        "outputId": "33ef78fc-8f8c-4e83-b08c-61fff43d5dd4"
      },
      "outputs": [
        {
          "output_type": "stream",
          "name": "stdout",
          "text": [
            "Please Enter a Number2\n",
            "1\n",
            "3\n"
          ]
        }
      ],
      "source": [
        "# Write a program to find the sum of natural numbers\n",
        "a = int(input('Please Enter a Number' , ))\n",
        "i = 1\n",
        "sum = 0\n",
        "while(i<=a):\n",
        "    sum = sum + i\n",
        "    i = i+1\n",
        "    print(sum)"
      ]
    },
    {
      "cell_type": "code",
      "execution_count": null,
      "id": "bb2d0f10-e5dd-47e1-b567-13f008af117f",
      "metadata": {
        "colab": {
          "base_uri": "https://localhost:8080/"
        },
        "id": "bb2d0f10-e5dd-47e1-b567-13f008af117f",
        "outputId": "7d5d8427-d897-4056-c38f-67bf39d3799c"
      },
      "outputs": [
        {
          "output_type": "stream",
          "name": "stdout",
          "text": [
            "12\n",
            "13\n",
            "14\n"
          ]
        }
      ],
      "source": [
        "# break statement we can stop the loop even if the while condition is\n",
        "b = 12\n",
        "while b<20:\n",
        "    print(b)\n",
        "    if b == 14:\n",
        "        break\n",
        "    b += 1"
      ]
    },
    {
      "cell_type": "code",
      "execution_count": null,
      "id": "ce771e71-878f-4be2-a13f-682393ee9222",
      "metadata": {
        "colab": {
          "base_uri": "https://localhost:8080/"
        },
        "id": "ce771e71-878f-4be2-a13f-682393ee9222",
        "outputId": "a7b877a6-0815-444f-a806-b72bcd27d382"
      },
      "outputs": [
        {
          "output_type": "stream",
          "name": "stdout",
          "text": [
            "2\n",
            "3\n",
            "4\n",
            "6\n",
            "7\n",
            "9\n",
            "10\n"
          ]
        }
      ],
      "source": [
        "s = 1\n",
        "while s < 10:\n",
        "    s += 1\n",
        "    if s == 5:\n",
        "     continue\n",
        "    elif s == 8:\n",
        "     continue\n",
        "    print(s)"
      ]
    },
    {
      "cell_type": "code",
      "execution_count": null,
      "id": "f79d8f7e-caba-4dd1-b654-cc003c48061b",
      "metadata": {
        "colab": {
          "base_uri": "https://localhost:8080/"
        },
        "id": "f79d8f7e-caba-4dd1-b654-cc003c48061b",
        "outputId": "69182f31-640a-4ccc-cb9a-162de4fc844a"
      },
      "outputs": [
        {
          "output_type": "stream",
          "name": "stdout",
          "text": [
            "a\n",
            "b\n",
            "c\n",
            "d\n"
          ]
        }
      ],
      "source": [
        "l = ['a' , 'b', 'c' , 'd']\n",
        "for d in l :\n",
        "    print(d)"
      ]
    },
    {
      "cell_type": "code",
      "execution_count": null,
      "id": "e2e0af6a-0397-400b-8bfd-3f37c65f9722",
      "metadata": {
        "colab": {
          "base_uri": "https://localhost:8080/"
        },
        "id": "e2e0af6a-0397-400b-8bfd-3f37c65f9722",
        "outputId": "8e7d41b3-ee96-4ddf-ab1c-0ac1c78b43d5"
      },
      "outputs": [
        {
          "output_type": "stream",
          "name": "stdout",
          "text": [
            "A\n",
            "A\n",
            "F\n",
            "T\n"
          ]
        }
      ],
      "source": [
        "for d in 'AAFT':\n",
        "    print(d)"
      ]
    },
    {
      "cell_type": "code",
      "execution_count": null,
      "id": "089cf40f-3f1a-4df3-9056-a9dbe24349e9",
      "metadata": {
        "colab": {
          "base_uri": "https://localhost:8080/"
        },
        "id": "089cf40f-3f1a-4df3-9056-a9dbe24349e9",
        "outputId": "81d6d366-ba8a-48ba-e517-0b40d183bb4a"
      },
      "outputs": [
        {
          "output_type": "stream",
          "name": "stdout",
          "text": [
            "a\n",
            "b\n",
            "c\n"
          ]
        }
      ],
      "source": [
        "l1 = ['A','B','C','D']\n",
        "for d in l:\n",
        "    print(d)\n",
        "    if d == 'c':\n",
        "        break"
      ]
    },
    {
      "cell_type": "code",
      "execution_count": null,
      "id": "0177664e-e027-4660-81bc-7ba1f35b0343",
      "metadata": {
        "colab": {
          "base_uri": "https://localhost:8080/"
        },
        "id": "0177664e-e027-4660-81bc-7ba1f35b0343",
        "outputId": "2c22ee08-429a-4a6c-a4db-e811ff6a617c"
      },
      "outputs": [
        {
          "output_type": "stream",
          "name": "stdout",
          "text": [
            "a\n",
            "b\n",
            "c\n",
            "d\n"
          ]
        }
      ],
      "source": [
        "l1 = ['A','B','C','D']\n",
        "for d in l:\n",
        "    print(d)\n",
        "    if d == 'c':\n",
        "        continue"
      ]
    },
    {
      "cell_type": "code",
      "execution_count": null,
      "id": "4dc7949a-4970-4d4b-88ab-2bf82d78b393",
      "metadata": {
        "colab": {
          "base_uri": "https://localhost:8080/"
        },
        "id": "4dc7949a-4970-4d4b-88ab-2bf82d78b393",
        "outputId": "2d98ee68-cf42-426c-ca68-f9097b3b80c6"
      },
      "outputs": [
        {
          "output_type": "stream",
          "name": "stdout",
          "text": [
            "0\n",
            "1\n",
            "2\n",
            "3\n",
            "4\n",
            "5\n",
            "6\n",
            "7\n",
            "8\n",
            "9\n"
          ]
        }
      ],
      "source": [
        "for d in range (10):\n",
        "    print(d)"
      ]
    },
    {
      "cell_type": "code",
      "execution_count": null,
      "id": "e6d3f9c8-9e1c-4c9e-b181-e2b527aa7431",
      "metadata": {
        "id": "e6d3f9c8-9e1c-4c9e-b181-e2b527aa7431"
      },
      "outputs": [],
      "source": [
        "d = 69\n",
        "while d < 1:\n",
        "    s -1\n",
        "    print(d)\n",
        "\n"
      ]
    },
    {
      "cell_type": "code",
      "execution_count": null,
      "id": "f5d29c1a-e428-43b2-b620-91bbb02b13f1",
      "metadata": {
        "colab": {
          "base_uri": "https://localhost:8080/"
        },
        "id": "f5d29c1a-e428-43b2-b620-91bbb02b13f1",
        "outputId": "7c5508b3-ab4a-40c2-c601-0bf5daa01040"
      },
      "outputs": [
        {
          "output_type": "stream",
          "name": "stdout",
          "text": [
            "Please enter a number5\n",
            "120\n"
          ]
        }
      ],
      "source": [
        "# WAP to find factorial of any number\n",
        "a = int(input('Please enter a number' , ))\n",
        "i = 1\n",
        "fact=1\n",
        "for i in range(1,a+1):\n",
        "   fact = fact*i\n",
        "print(fact)\n"
      ]
    },
    {
      "cell_type": "code",
      "source": [
        "# ex. 1\n",
        "f = ['apple' , 'custurdapple' , 'watermelon' , 'pineapple']\n",
        "for fr in f:\n",
        "  print(fr)"
      ],
      "metadata": {
        "colab": {
          "base_uri": "https://localhost:8080/"
        },
        "id": "HvT5_ZOgPdK4",
        "outputId": "a17d049a-0f7a-4f13-ffa8-f3b50ccb0123"
      },
      "id": "HvT5_ZOgPdK4",
      "execution_count": null,
      "outputs": [
        {
          "output_type": "stream",
          "name": "stdout",
          "text": [
            "apple\n",
            "custurdapple\n",
            "watermelon\n",
            "pineapple\n"
          ]
        }
      ]
    },
    {
      "cell_type": "code",
      "source": [
        "# ex.2\n",
        "for a in range(10):\n",
        "  print(a)"
      ],
      "metadata": {
        "colab": {
          "base_uri": "https://localhost:8080/"
        },
        "id": "CmxbrOvVPyyZ",
        "outputId": "4b7898f2-1bec-4aca-d440-09a23be511f2"
      },
      "id": "CmxbrOvVPyyZ",
      "execution_count": null,
      "outputs": [
        {
          "output_type": "stream",
          "name": "stdout",
          "text": [
            "0\n",
            "1\n",
            "2\n",
            "3\n",
            "4\n",
            "5\n",
            "6\n",
            "7\n",
            "8\n",
            "9\n"
          ]
        }
      ]
    },
    {
      "cell_type": "code",
      "source": [
        "for b in 'UTTARAKHAND':\n",
        "  print(b)"
      ],
      "metadata": {
        "colab": {
          "base_uri": "https://localhost:8080/"
        },
        "id": "oWMwF_TORs-y",
        "outputId": "020eb270-b821-4ac7-f5bc-4a269a12c552"
      },
      "id": "oWMwF_TORs-y",
      "execution_count": null,
      "outputs": [
        {
          "output_type": "stream",
          "name": "stdout",
          "text": [
            "U\n",
            "T\n",
            "T\n",
            "A\n",
            "R\n",
            "A\n",
            "K\n",
            "H\n",
            "A\n",
            "N\n",
            "D\n"
          ]
        }
      ]
    },
    {
      "cell_type": "code",
      "source": [
        "# Even Numbers Between 1 to 100\n",
        "i = 0\n",
        "for i in  range(1,100):\n",
        "  if i%2==0:\n",
        "    print(i)\n",
        "  else:\n",
        "    pass\n",
        "\n"
      ],
      "metadata": {
        "colab": {
          "base_uri": "https://localhost:8080/"
        },
        "id": "Yoz5yHnjSABt",
        "outputId": "9bd40de0-b52a-47c6-88d7-fcade57e5b91"
      },
      "id": "Yoz5yHnjSABt",
      "execution_count": null,
      "outputs": [
        {
          "output_type": "stream",
          "name": "stdout",
          "text": [
            "2\n",
            "4\n",
            "6\n",
            "8\n",
            "10\n",
            "12\n",
            "14\n",
            "16\n",
            "18\n",
            "20\n",
            "22\n",
            "24\n",
            "26\n",
            "28\n",
            "30\n",
            "32\n",
            "34\n",
            "36\n",
            "38\n",
            "40\n",
            "42\n",
            "44\n",
            "46\n",
            "48\n",
            "50\n",
            "52\n",
            "54\n",
            "56\n",
            "58\n",
            "60\n",
            "62\n",
            "64\n",
            "66\n",
            "68\n",
            "70\n",
            "72\n",
            "74\n",
            "76\n",
            "78\n",
            "80\n",
            "82\n",
            "84\n",
            "86\n",
            "88\n",
            "90\n",
            "92\n",
            "94\n",
            "96\n",
            "98\n"
          ]
        }
      ]
    },
    {
      "cell_type": "code",
      "source": [
        "# WAP THAT PRINTS ALL EVEN NUMBERS FROM 1 TO 20 USING A FOR LOOP\n",
        "\n",
        "i = 0\n",
        "for i in  range(1,20):\n",
        "  if i%2==0:\n",
        "    print(i)\n",
        "  else:\n",
        "    pass"
      ],
      "metadata": {
        "colab": {
          "base_uri": "https://localhost:8080/"
        },
        "id": "0OaA_zIvUECT",
        "outputId": "6ab5fd1f-a222-4ede-e472-b3214d08f30b"
      },
      "id": "0OaA_zIvUECT",
      "execution_count": null,
      "outputs": [
        {
          "output_type": "stream",
          "name": "stdout",
          "text": [
            "2\n",
            "4\n",
            "6\n",
            "8\n",
            "10\n",
            "12\n",
            "14\n",
            "16\n",
            "18\n"
          ]
        }
      ]
    },
    {
      "cell_type": "code",
      "source": [
        "# WAP TO FIND THE MAXIMUM NUMBER IN A LIST USING FOR LOOP\n",
        "\n",
        "numbers = [4, 2, 91, 6, 5, 8, 3, 7,10]\n",
        "m = numbers[0]\n",
        "for n in numbers:\n",
        "    if n > m:\n",
        "        m = n\n",
        "\n",
        "print(\"The maximum number is:\", m)"
      ],
      "metadata": {
        "colab": {
          "base_uri": "https://localhost:8080/"
        },
        "id": "gAI4wOw7VkA9",
        "outputId": "72bc7c25-b56f-43dc-c052-092406909100"
      },
      "id": "gAI4wOw7VkA9",
      "execution_count": null,
      "outputs": [
        {
          "output_type": "stream",
          "name": "stdout",
          "text": [
            "The maximum number is: 91\n"
          ]
        }
      ]
    },
    {
      "cell_type": "code",
      "source": [
        "for d in range(1,10):\n",
        "    print(d)"
      ],
      "metadata": {
        "colab": {
          "base_uri": "https://localhost:8080/"
        },
        "id": "EBNrgtfeWGCq",
        "outputId": "cfc0f05a-d0ac-4036-b4b2-e9d32445560e"
      },
      "id": "EBNrgtfeWGCq",
      "execution_count": null,
      "outputs": [
        {
          "output_type": "stream",
          "name": "stdout",
          "text": [
            "1\n",
            "2\n",
            "3\n",
            "4\n",
            "5\n",
            "6\n",
            "7\n",
            "8\n",
            "9\n",
            "1\n",
            "2\n",
            "3\n",
            "4\n",
            "5\n",
            "6\n",
            "7\n",
            "8\n",
            "9\n"
          ]
        }
      ]
    },
    {
      "cell_type": "code",
      "source": [],
      "metadata": {
        "id": "_-iStikVWk1v"
      },
      "id": "_-iStikVWk1v",
      "execution_count": null,
      "outputs": []
    }
  ],
  "metadata": {
    "kernelspec": {
      "display_name": "Python 3 (ipykernel)",
      "language": "python",
      "name": "python3"
    },
    "language_info": {
      "codemirror_mode": {
        "name": "ipython",
        "version": 3
      },
      "file_extension": ".py",
      "mimetype": "text/x-python",
      "name": "python",
      "nbconvert_exporter": "python",
      "pygments_lexer": "ipython3",
      "version": "3.12.4"
    },
    "colab": {
      "provenance": []
    }
  },
  "nbformat": 4,
  "nbformat_minor": 5
}