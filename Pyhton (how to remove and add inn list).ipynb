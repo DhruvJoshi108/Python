{
 "cells": [
  {
   "cell_type": "code",
   "execution_count": 1,
   "id": "a09db5fc-bff6-4339-b2e2-4ecfdc44eed0",
   "metadata": {},
   "outputs": [
    {
     "name": "stdout",
     "output_type": "stream",
     "text": [
      "[1, 2, 3, 5, 4]\n"
     ]
    }
   ],
   "source": [
    "n = [1 , 2 , 3 , 4 , 5 , 4]\n",
    "n.remove(4)\n",
    "print(n)\n"
   ]
  },
  {
   "cell_type": "code",
   "execution_count": 6,
   "id": "5b5b01a3-7a53-44d3-8acb-aee99e0f9bf1",
   "metadata": {},
   "outputs": [
    {
     "name": "stdout",
     "output_type": "stream",
     "text": [
      "[1, 2, 3, 4, 5]\n"
     ]
    }
   ],
   "source": [
    "n = [1 , 2 , 3 , 4 , 5 , 4]\n",
    "n.pop()\n",
    "\n",
    "print(n)\n"
   ]
  },
  {
   "cell_type": "code",
   "execution_count": 8,
   "id": "6f85ded6-4388-464b-8765-c8b11e912202",
   "metadata": {},
   "outputs": [
    {
     "name": "stdout",
     "output_type": "stream",
     "text": [
      "[1, 2, 4, 5, 4]\n"
     ]
    }
   ],
   "source": [
    "n = [1 , 2 , 3 , 4 , 5 , 4]\n",
    "n.pop(-4)\n",
    "print(n)"
   ]
  },
  {
   "cell_type": "code",
   "execution_count": 14,
   "id": "c1a696ee-c389-45be-a707-ba88a0d62eca",
   "metadata": {},
   "outputs": [
    {
     "name": "stdout",
     "output_type": "stream",
     "text": [
      "['Dhruv', 'akash', 'sanchay', 'sahil', 'golu', 'samay', 'gotham']\n"
     ]
    }
   ],
   "source": [
    "n = ['Dhruv' ,  'akash' , 'sanchay' , 'sahil' , 'golu' , 'samay' , 'gotham' , 'magnus']\n",
    "del n[7]\n",
    "print(n)"
   ]
  },
  {
   "cell_type": "code",
   "execution_count": 18,
   "id": "72cf9888-f1be-4ef6-868f-10e10a86644f",
   "metadata": {},
   "outputs": [
    {
     "name": "stdout",
     "output_type": "stream",
     "text": [
      "[]\n"
     ]
    }
   ],
   "source": [
    "n = ['Dhruv' ,  'akash' , 'sanchay' , 'sahil' , 'golu' , 'samay' , 'gotham' , 'magnus']\n",
    "n.clear()\n",
    "print(n)"
   ]
  },
  {
   "cell_type": "code",
   "execution_count": 22,
   "id": "2a344daa-22ee-4b4d-8139-1c8df5b3354a",
   "metadata": {},
   "outputs": [
    {
     "name": "stdout",
     "output_type": "stream",
     "text": [
      "['BI', 'Python', 'SQL', 'Stats', 'DS']\n"
     ]
    }
   ],
   "source": [
    "course = ['Python' , 'SQL' , 'Stats' , 'DS']\n",
    "# Add element \"BI\" on different methods\n",
    "course.insert( 0, 'BI')\n",
    "print(course)"
   ]
  },
  {
   "cell_type": "code",
   "execution_count": 24,
   "id": "c4f71525-651a-4b05-b25d-381906623446",
   "metadata": {},
   "outputs": [
    {
     "name": "stdout",
     "output_type": "stream",
     "text": [
      "['Python', 'SQL', 'Stats', 'DS', 'BI']\n"
     ]
    }
   ],
   "source": [
    "course = ['Python' , 'SQL' , 'Stats' , 'DS']\n",
    "course.append('BI')\n",
    "print(course)\n"
   ]
  },
  {
   "cell_type": "code",
   "execution_count": 28,
   "id": "fd8e1c2f-f2c7-4bbf-abf3-0783cfcaa30c",
   "metadata": {},
   "outputs": [
    {
     "name": "stdout",
     "output_type": "stream",
     "text": [
      "['Python', 'SQL', 'Stats', 'DS', 'BI']\n"
     ]
    }
   ],
   "source": [
    "course = ['Python' , 'SQL' , 'Stats' , 'DS']\n",
    "course.extend(['BI'])\n",
    "print(course)"
   ]
  },
  {
   "cell_type": "code",
   "execution_count": 30,
   "id": "2b48c335-d6a9-454a-ad57-6cc3e15e2e6a",
   "metadata": {},
   "outputs": [
    {
     "name": "stdout",
     "output_type": "stream",
     "text": [
      "['tcs', 'infosys', 'microsoft', 'google', 1, 2, 3, 4]\n"
     ]
    }
   ],
   "source": [
    "company = [ 'tcs' , 'infosys' , 'microsoft' , 'google' , 1 , 2 , 3 , 4 , 5, ]\n",
    "company.pop(-1)\n",
    "print(company)"
   ]
  },
  {
   "cell_type": "code",
   "execution_count": 40,
   "id": "1a25c047-c8fe-4649-b3a2-19c84b73846e",
   "metadata": {},
   "outputs": [
    {
     "name": "stdout",
     "output_type": "stream",
     "text": [
      "['tcs', 'infosys', 'microsoft', 'google', 2, 3, 4, 5]\n"
     ]
    }
   ],
   "source": [
    "company = [ 'tcs' , 'infosys' , 'microsoft' , 'google' , 1 , 2 , 3 , 4 , 5, ]\n",
    "company.remove(1)\n",
    "print(company)"
   ]
  },
  {
   "cell_type": "code",
   "execution_count": 41,
   "id": "8ed124b4-4ecf-4575-8939-7b066330cee2",
   "metadata": {},
   "outputs": [
    {
     "name": "stdout",
     "output_type": "stream",
     "text": [
      "['tcs', 'microsoft', 'google', 1, 2, 3, 4, 5]\n"
     ]
    }
   ],
   "source": [
    "company = [ 'tcs' , 'infosys' , 'microsoft' , 'google' , 1 , 2 , 3 , 4 , 5, ]\n",
    "del company[1]\n",
    "print(company)"
   ]
  },
  {
   "cell_type": "code",
   "execution_count": 43,
   "id": "019edbe3-37ee-4ea9-8cda-6c49c615377b",
   "metadata": {},
   "outputs": [
    {
     "name": "stdout",
     "output_type": "stream",
     "text": [
      "[]\n"
     ]
    }
   ],
   "source": [
    "company = [ 'tcs' , 'infosys' , 'microsoft' , 'google' , 1 , 2 , 3 , 4 , 5, ]\n",
    "company.clear()\n",
    "print(company)"
   ]
  },
  {
   "cell_type": "code",
   "execution_count": null,
   "id": "f57e5520-06e6-4591-b8f4-15527b576b9e",
   "metadata": {},
   "outputs": [],
   "source": []
  }
 ],
 "metadata": {
  "kernelspec": {
   "display_name": "Python 3 (ipykernel)",
   "language": "python",
   "name": "python3"
  },
  "language_info": {
   "codemirror_mode": {
    "name": "ipython",
    "version": 3
   },
   "file_extension": ".py",
   "mimetype": "text/x-python",
   "name": "python",
   "nbconvert_exporter": "python",
   "pygments_lexer": "ipython3",
   "version": "3.12.4"
  }
 },
 "nbformat": 4,
 "nbformat_minor": 5
}
