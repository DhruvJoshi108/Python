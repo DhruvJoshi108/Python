{
 "cells": [
  {
   "cell_type": "code",
   "execution_count": 1,
   "id": "bc03fd4b-d365-4ced-8d81-195dd4bf84b1",
   "metadata": {},
   "outputs": [],
   "source": [
    "# LOOPS"
   ]
  },
  {
   "cell_type": "code",
   "execution_count": 2,
   "id": "8008a235-5222-4f27-bdcb-3f6f1d530488",
   "metadata": {},
   "outputs": [
    {
     "name": "stdout",
     "output_type": "stream",
     "text": [
      "avi\n",
      "ravi\n",
      "raj\n",
      "raju\n"
     ]
    }
   ],
   "source": [
    "# Loops in python allow you to repeat a block of code multiple times. They are used when you need to perform repetitive tasks or iterate over swquences like lists, strings or ranges. Python provides 2 types of loop \"FOR LOOP\" and \"WHILE LOOP\"\n",
    "names = ['avi', 'ravi', 'raj' , 'raju']\n",
    "for name in names:\n",
    "    print(name)"
   ]
  },
  {
   "cell_type": "code",
   "execution_count": 3,
   "id": "cadae104-045f-4f36-8bbb-635b2b55ab6c",
   "metadata": {},
   "outputs": [
    {
     "name": "stdout",
     "output_type": "stream",
     "text": [
      "0\n",
      "1\n",
      "2\n",
      "3\n",
      "4\n",
      "5\n",
      "6\n",
      "7\n",
      "8\n",
      "9\n"
     ]
    }
   ],
   "source": [
    "# The loop iterates over numvers from 0 to 4 (the upper bound in range() is  not included)\n",
    "for d in range(10):\n",
    "    print(d)"
   ]
  },
  {
   "cell_type": "code",
   "execution_count": 4,
   "id": "7fccf4c6-c0ba-443d-843f-25920aa470ce",
   "metadata": {},
   "outputs": [
    {
     "name": "stdout",
     "output_type": "stream",
     "text": [
      "d\n",
      "h\n",
      "r\n",
      "u\n",
      "v\n"
     ]
    }
   ],
   "source": [
    "for h in \"dhruv\":\n",
    "    print(h)"
   ]
  },
  {
   "cell_type": "code",
   "execution_count": 5,
   "id": "921899eb-4c0a-47e1-85db-4a1d543b3a92",
   "metadata": {},
   "outputs": [
    {
     "name": "stdout",
     "output_type": "stream",
     "text": [
      "-10\n",
      "-9\n",
      "-8\n",
      "-7\n",
      "-6\n",
      "-5\n",
      "-4\n",
      "-3\n",
      "-2\n",
      "-1\n",
      "0\n"
     ]
    }
   ],
   "source": [
    "r = -10\n",
    "while r < 10:\n",
    "    print(r)\n",
    "    if r==0:\n",
    "        break\n",
    "    r+=1  "
   ]
  },
  {
   "cell_type": "code",
   "execution_count": 6,
   "id": "f0af174e-74bc-4039-b60a-3d83e0eef802",
   "metadata": {},
   "outputs": [
    {
     "name": "stdout",
     "output_type": "stream",
     "text": [
      "-10\n",
      "-7\n",
      "-4\n",
      "-1\n",
      "2\n",
      "5\n",
      "8\n"
     ]
    }
   ],
   "source": [
    "r = -10\n",
    "while r < 10:\n",
    "    print(r)\n",
    "    r += 3"
   ]
  },
  {
   "cell_type": "code",
   "execution_count": 7,
   "id": "d475a562-0710-4813-9a80-b1c91af99c10",
   "metadata": {},
   "outputs": [
    {
     "data": {
      "text/plain": [
       "45"
      ]
     },
     "execution_count": 7,
     "metadata": {},
     "output_type": "execute_result"
    }
   ],
   "source": [
    "# Que 1 :- write a program to calculate the sum of all elements in a list using a for loop\n",
    "a = [1,2,3,4,5,6,7,8,9]\n",
    "sum = 0\n",
    "for number in a:\n",
    "    sum += number\n",
    "sum"
   ]
  },
  {
   "cell_type": "code",
   "execution_count": 8,
   "id": "04b26e4f-7295-4084-9744-b96b1a04a16a",
   "metadata": {},
   "outputs": [
    {
     "name": "stdout",
     "output_type": "stream",
     "text": [
      "The maximum number in the list is: 9\n"
     ]
    }
   ],
   "source": [
    "# Que 2 :- Write a program to find the maximum number in a list using for loop python\n",
    "def find_max_number(numbers):\n",
    "    max_number = numbers[0]\n",
    "    for number in numbers:\n",
    "        if number > max_number:\n",
    "            max_number = number\n",
    "    return max_number\n",
    "\n",
    "# Example usage:\n",
    "my_list = [3, 5, 7, 2, 8, 9, 1]\n",
    "print(\"The maximum number in the list is:\", find_max_number(my_list))\n",
    "# Home work to tommorow\n"
   ]
  },
  {
   "cell_type": "code",
   "execution_count": 9,
   "id": "0c0fa2e9-4425-48d9-8c6b-e3d1ac0e4276",
   "metadata": {},
   "outputs": [
    {
     "name": "stdout",
     "output_type": "stream",
     "text": [
      "0\n",
      "2\n",
      "4\n",
      "6\n",
      "8\n",
      "10\n"
     ]
    }
   ],
   "source": [
    "# Write a program to print even numbers from 0 to 10\n",
    "i = 0\n",
    "while(i<=10):\n",
    "    print(i)\n",
    "    i = i+2\n"
   ]
  },
  {
   "cell_type": "code",
   "execution_count": 10,
   "id": "a9f969eb-0216-40f7-8c51-4b290811c10e",
   "metadata": {},
   "outputs": [
    {
     "name": "stdout",
     "output_type": "stream",
     "text": [
      "1\n",
      "3\n",
      "5\n",
      "7\n",
      "9\n"
     ]
    }
   ],
   "source": [
    "# Write a program to print even numbers from 1 to 10\n",
    "i = 1\n",
    "while(i<=10):\n",
    "    print(i)\n",
    "    i = i+2"
   ]
  },
  {
   "cell_type": "code",
   "execution_count": 11,
   "id": "5756b2f6-de13-41e4-948f-dfa1b6043ca1",
   "metadata": {},
   "outputs": [
    {
     "name": "stdin",
     "output_type": "stream",
     "text": [
      "Please Enter a Number 1\n"
     ]
    },
    {
     "name": "stdout",
     "output_type": "stream",
     "text": [
      "1\n"
     ]
    }
   ],
   "source": [
    "# Write a program to find the sum of natural numbers\n",
    "a = int(input('Please Enter a Number' , ))\n",
    "i = 1 \n",
    "sum = 0\n",
    "while(i<=a):\n",
    "    sum = sum + i\n",
    "    i = i+1\n",
    "    print(sum)"
   ]
  },
  {
   "cell_type": "code",
   "execution_count": 12,
   "id": "bb2d0f10-e5dd-47e1-b567-13f008af117f",
   "metadata": {},
   "outputs": [
    {
     "name": "stdout",
     "output_type": "stream",
     "text": [
      "12\n",
      "13\n",
      "14\n"
     ]
    }
   ],
   "source": [
    "# break statement we can stop the loop even if the while condition is\n",
    "b = 12\n",
    "while b<20:\n",
    "    print(b)\n",
    "    if b == 14:\n",
    "        break \n",
    "    b += 1"
   ]
  },
  {
   "cell_type": "code",
   "execution_count": 13,
   "id": "ce771e71-878f-4be2-a13f-682393ee9222",
   "metadata": {},
   "outputs": [
    {
     "name": "stdout",
     "output_type": "stream",
     "text": [
      "2\n",
      "3\n",
      "4\n",
      "6\n",
      "7\n",
      "9\n",
      "10\n"
     ]
    }
   ],
   "source": [
    "s = 1\n",
    "while s < 10:\n",
    "    s += 1\n",
    "    if s == 5:\n",
    "     continue\n",
    "    elif s == 8:\n",
    "     continue\n",
    "    print(s)"
   ]
  },
  {
   "cell_type": "code",
   "execution_count": 14,
   "id": "f79d8f7e-caba-4dd1-b654-cc003c48061b",
   "metadata": {},
   "outputs": [
    {
     "name": "stdout",
     "output_type": "stream",
     "text": [
      "a\n",
      "b\n",
      "c\n",
      "d\n"
     ]
    }
   ],
   "source": [
    "l = ['a' , 'b', 'c' , 'd']\n",
    "for d in l :\n",
    "    print(d)"
   ]
  },
  {
   "cell_type": "code",
   "execution_count": 15,
   "id": "e2e0af6a-0397-400b-8bfd-3f37c65f9722",
   "metadata": {},
   "outputs": [
    {
     "name": "stdout",
     "output_type": "stream",
     "text": [
      "A\n",
      "A\n",
      "F\n",
      "T\n"
     ]
    }
   ],
   "source": [
    "for d in 'AAFT':\n",
    "    print(d)"
   ]
  },
  {
   "cell_type": "code",
   "execution_count": 16,
   "id": "089cf40f-3f1a-4df3-9056-a9dbe24349e9",
   "metadata": {},
   "outputs": [
    {
     "name": "stdout",
     "output_type": "stream",
     "text": [
      "a\n",
      "b\n",
      "c\n"
     ]
    }
   ],
   "source": [
    "l1 = ['A','B','C','D']\n",
    "for d in l:\n",
    "    print(d)\n",
    "    if d == 'c':\n",
    "        break"
   ]
  },
  {
   "cell_type": "code",
   "execution_count": 17,
   "id": "0177664e-e027-4660-81bc-7ba1f35b0343",
   "metadata": {},
   "outputs": [
    {
     "name": "stdout",
     "output_type": "stream",
     "text": [
      "a\n",
      "b\n",
      "c\n",
      "d\n"
     ]
    }
   ],
   "source": [
    "l1 = ['A','B','C','D']\n",
    "for d in l:\n",
    "    print(d)\n",
    "    if d == 'c':\n",
    "        continue"
   ]
  },
  {
   "cell_type": "code",
   "execution_count": 18,
   "id": "4dc7949a-4970-4d4b-88ab-2bf82d78b393",
   "metadata": {},
   "outputs": [
    {
     "name": "stdout",
     "output_type": "stream",
     "text": [
      "0\n",
      "1\n",
      "2\n",
      "3\n",
      "4\n",
      "5\n",
      "6\n",
      "7\n",
      "8\n",
      "9\n"
     ]
    }
   ],
   "source": [
    "for d in range (10):\n",
    "    print(d)"
   ]
  },
  {
   "cell_type": "code",
   "execution_count": 19,
   "id": "e6d3f9c8-9e1c-4c9e-b181-e2b527aa7431",
   "metadata": {},
   "outputs": [],
   "source": [
    "d = 69\n",
    "while d < 1:\n",
    "    s -1\n",
    "    print(d)\n",
    "\n"
   ]
  },
  {
   "cell_type": "code",
   "execution_count": 20,
   "id": "f5d29c1a-e428-43b2-b620-91bbb02b13f1",
   "metadata": {},
   "outputs": [
    {
     "name": "stdin",
     "output_type": "stream",
     "text": [
      "Please enter a number 1\n"
     ]
    },
    {
     "name": "stdout",
     "output_type": "stream",
     "text": [
      "1\n"
     ]
    }
   ],
   "source": [
    "# WAP to find factorial of any number\n",
    "a = int(input('Please enter a number' , ))\n",
    "i = 1\n",
    "fact=1\n",
    "for i in range(1,a+1):\n",
    "   fact = fact*i\n",
    "print(fact)\n"
   ]
  },
  {
   "cell_type": "code",
   "execution_count": 22,
   "id": "984af50a-2800-4881-ab3a-7aaea7f7b1da",
   "metadata": {},
   "outputs": [
    {
     "name": "stdout",
     "output_type": "stream",
     "text": [
      "The sum of numbers 1 to 100 is :  5050\n"
     ]
    }
   ],
   "source": [
    "#print sum of no 1-100 using while loop\n",
    "sum = 0\n",
    "num = 1\n",
    "while num <= 100:\n",
    "    sum += num \n",
    "    num += 1\n",
    "print('The sum of numbers 1 to 100 is : ' , sum )"
   ]
  },
  {
   "cell_type": "code",
   "execution_count": 24,
   "id": "17444b41-949c-4d64-b33c-f93203ceb49a",
   "metadata": {},
   "outputs": [
    {
     "name": "stdout",
     "output_type": "stream",
     "text": [
      "0\n",
      "2\n",
      "4\n",
      "6\n",
      "8\n",
      "10\n"
     ]
    }
   ],
   "source": [
    "#print even number using while loop\n",
    "num = -1\n",
    "while num <= 10:\n",
    "    num += 1\n",
    "    \n",
    "    if num % 2 == 0:\n",
    "        print (num)\n",
    "    "
   ]
  },
  {
   "cell_type": "code",
   "execution_count": 27,
   "id": "84ae9724-3e0b-4f85-b1c4-c9be3f9cd22d",
   "metadata": {},
   "outputs": [
    {
     "name": "stdout",
     "output_type": "stream",
     "text": [
      "9\n"
     ]
    }
   ],
   "source": [
    "#find the largest no in a list\n",
    "list = [1,2,3,4,5,6,7,8,9]\n",
    "num = list[0]\n",
    "for number in list:\n",
    "    if number > num:\n",
    "        \n",
    "        num = number\n",
    "print(number)"
   ]
  },
  {
   "cell_type": "code",
   "execution_count": 41,
   "id": "11431838-69f5-4d37-b70d-7f68fb3d3454",
   "metadata": {},
   "outputs": [
    {
     "name": "stdout",
     "output_type": "stream",
     "text": [
      "1\n"
     ]
    }
   ],
   "source": [
    "#find the smallest no in a list\n",
    "number = [1,2,3,4,5,6,7,8,9]  \n",
    "small_num = number[0]  \n",
    "for num in number:\n",
    "    if num < small_num:\n",
    "        small_num = num\n",
    "print(small_num)"
   ]
  },
  {
   "cell_type": "code",
   "execution_count": 1,
   "id": "61bec592-1508-4d21-be9c-3494d1b9704a",
   "metadata": {},
   "outputs": [
    {
     "name": "stdout",
     "output_type": "stream",
     "text": [
      "54321\n"
     ]
    }
   ],
   "source": [
    "#reverse a no using while loop\n",
    "number = 12345 \n",
    "reversed_number = int(str(number)[::-1]) \n",
    "print(reversed_number)"
   ]
  },
  {
   "cell_type": "code",
   "execution_count": 5,
   "id": "df74d6af-4042-42c9-9ec2-adc3b53a298e",
   "metadata": {},
   "outputs": [
    {
     "name": "stdout",
     "output_type": "stream",
     "text": [
      "20\n"
     ]
    }
   ],
   "source": [
    "#calculate the sum of digits in a number\n",
    "number = 123455\n",
    "sum_of_digits = sum(int(digit) for digit in str(number)) \n",
    "print(sum_of_digits)"
   ]
  },
  {
   "cell_type": "code",
   "execution_count": null,
   "id": "6760bbb3-32e3-4f1c-bfd6-6fd342872119",
   "metadata": {},
   "outputs": [],
   "source": []
  }
 ],
 "metadata": {
  "kernelspec": {
   "display_name": "Python 3 (ipykernel)",
   "language": "python",
   "name": "python3"
  },
  "language_info": {
   "codemirror_mode": {
    "name": "ipython",
    "version": 3
   },
   "file_extension": ".py",
   "mimetype": "text/x-python",
   "name": "python",
   "nbconvert_exporter": "python",
   "pygments_lexer": "ipython3",
   "version": "3.12.4"
  }
 },
 "nbformat": 4,
 "nbformat_minor": 5
}
