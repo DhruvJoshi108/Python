{
 "cells": [
  {
   "cell_type": "code",
   "execution_count": 1,
   "id": "5f5e2741-55af-4f5f-9ef4-cf14299f0b46",
   "metadata": {},
   "outputs": [],
   "source": [
    "import pandas as pd\n"
   ]
  },
  {
   "cell_type": "code",
   "execution_count": 2,
   "id": "e03a1c63-21cd-4a6b-bc88-343cab43202e",
   "metadata": {},
   "outputs": [],
   "source": [
    "# SERIES \n",
    "# a series is a 1-D array comtaining any type of data"
   ]
  },
  {
   "cell_type": "code",
   "execution_count": 3,
   "id": "27ad3f63-1a7f-4501-9a83-44724d334858",
   "metadata": {},
   "outputs": [
    {
     "name": "stdout",
     "output_type": "stream",
     "text": [
      "0    10\n",
      "1    20\n",
      "2    30\n",
      "dtype: int64\n"
     ]
    }
   ],
   "source": [
    "# Creation a series\n",
    "series = pd.Series([10,20,30])\n",
    "print(series)"
   ]
  },
  {
   "cell_type": "code",
   "execution_count": 4,
   "id": "d7239334-04b0-4057-937d-bec3bc415476",
   "metadata": {},
   "outputs": [
    {
     "name": "stdout",
     "output_type": "stream",
     "text": [
      "3      Avi\n",
      "5    Shyam\n",
      "7     Aman\n",
      "dtype: object\n"
     ]
    }
   ],
   "source": [
    "series1 = pd.Series(['Avi' , 'Shyam' , 'Aman'] , index = [3,5,7])\n",
    "print(series1)"
   ]
  },
  {
   "cell_type": "code",
   "execution_count": 5,
   "id": "9ef98677-2486-4cd8-b203-497cf0cfc0b0",
   "metadata": {},
   "outputs": [
    {
     "name": "stdout",
     "output_type": "stream",
     "text": [
      "0    10\n",
      "1    20\n",
      "2    30\n",
      "dtype: int64\n"
     ]
    }
   ],
   "source": [
    "# Creation of series from numpy arrays\n",
    "import numpy as np\n",
    "array = np.array([1,2,3,4,5,6,7])\n",
    "series2 = pd.Series(array)\n",
    "print(series)"
   ]
  },
  {
   "cell_type": "code",
   "execution_count": 6,
   "id": "0be3277d-311a-487b-aee0-91915450870d",
   "metadata": {},
   "outputs": [
    {
     "name": "stdout",
     "output_type": "stream",
     "text": [
      "Ram       1\n",
      "Sita      2\n",
      "Krishn    3\n",
      "Radha     4\n",
      "Hari      5\n",
      "Mahesh    6\n",
      "Laxmi     7\n",
      "dtype: int32\n"
     ]
    }
   ],
   "source": [
    "# We can use letters or srtings as indices\n",
    "series4 = pd.Series(array , index = ['Ram' , 'Sita' , 'Krishn' ,  'Radha' , \"Hari\" , 'Mahesh' , 'Laxmi'])\n",
    "print(series4)"
   ]
  },
  {
   "cell_type": "code",
   "execution_count": 7,
   "id": "503f452c-67a7-4091-ba43-eab7d2f271ca",
   "metadata": {},
   "outputs": [
    {
     "name": "stdout",
     "output_type": "stream",
     "text": [
      "India    New Delhi\n",
      "UK          London\n",
      "Japan        Tokyo\n",
      "dtype: object\n"
     ]
    }
   ],
   "source": [
    "# Creation of series from dictionary\n",
    "dict = {'India':'New Delhi' , 'UK':'London','Japan' :'Tokyo'}\n",
    "# print(dict)\n",
    "series5 = pd.Series(dict)\n",
    "print(series5)"
   ]
  },
  {
   "cell_type": "code",
   "execution_count": 9,
   "id": "ebb9bd41-7cd0-48e3-9e98-5c661fe0f254",
   "metadata": {},
   "outputs": [
    {
     "data": {
      "text/html": [
       "<div>\n",
       "<style scoped>\n",
       "    .dataframe tbody tr th:only-of-type {\n",
       "        vertical-align: middle;\n",
       "    }\n",
       "\n",
       "    .dataframe tbody tr th {\n",
       "        vertical-align: top;\n",
       "    }\n",
       "\n",
       "    .dataframe thead th {\n",
       "        text-align: right;\n",
       "    }\n",
       "</style>\n",
       "<table border=\"1\" class=\"dataframe\">\n",
       "  <thead>\n",
       "    <tr style=\"text-align: right;\">\n",
       "      <th></th>\n",
       "      <th>0</th>\n",
       "    </tr>\n",
       "  </thead>\n",
       "  <tbody>\n",
       "    <tr>\n",
       "      <th>0</th>\n",
       "      <td>10</td>\n",
       "    </tr>\n",
       "    <tr>\n",
       "      <th>1</th>\n",
       "      <td>20</td>\n",
       "    </tr>\n",
       "    <tr>\n",
       "      <th>2</th>\n",
       "      <td>30</td>\n",
       "    </tr>\n",
       "  </tbody>\n",
       "</table>\n",
       "</div>"
      ],
      "text/plain": [
       "    0\n",
       "0  10\n",
       "1  20\n",
       "2  30"
      ]
     },
     "execution_count": 9,
     "metadata": {},
     "output_type": "execute_result"
    }
   ],
   "source": [
    "# Creation of Datafrram from NumPy ndaarrays\n",
    "array1 = np.array([10,20,30])\n",
    "df1 = pd.DataFrame(array1)\n",
    "df1\n"
   ]
  },
  {
   "cell_type": "code",
   "execution_count": 10,
   "id": "b3f42cd8-cde9-4045-b983-b67a26e5f679",
   "metadata": {},
   "outputs": [
    {
     "data": {
      "text/html": [
       "<div>\n",
       "<style scoped>\n",
       "    .dataframe tbody tr th:only-of-type {\n",
       "        vertical-align: middle;\n",
       "    }\n",
       "\n",
       "    .dataframe tbody tr th {\n",
       "        vertical-align: top;\n",
       "    }\n",
       "\n",
       "    .dataframe thead th {\n",
       "        text-align: right;\n",
       "    }\n",
       "</style>\n",
       "<table border=\"1\" class=\"dataframe\">\n",
       "  <thead>\n",
       "    <tr style=\"text-align: right;\">\n",
       "      <th></th>\n",
       "      <th>a</th>\n",
       "      <th>b</th>\n",
       "      <th>c</th>\n",
       "    </tr>\n",
       "  </thead>\n",
       "  <tbody>\n",
       "    <tr>\n",
       "      <th>0</th>\n",
       "      <td>20</td>\n",
       "      <td>10</td>\n",
       "      <td>NaN</td>\n",
       "    </tr>\n",
       "    <tr>\n",
       "      <th>1</th>\n",
       "      <td>10</td>\n",
       "      <td>15</td>\n",
       "      <td>20.0</td>\n",
       "    </tr>\n",
       "  </tbody>\n",
       "</table>\n",
       "</div>"
      ],
      "text/plain": [
       "    a   b     c\n",
       "0  20  10   NaN\n",
       "1  10  15  20.0"
      ]
     },
     "execution_count": 10,
     "metadata": {},
     "output_type": "execute_result"
    }
   ],
   "source": [
    "# Creation of Dataframe from list of dictionaries\n",
    "listdict = [{'a':20 , 'b':10}, {'a':10, 'b':15 , 'c':20}]\n",
    "# we are putting two dictionaries in a list\n",
    "df2 = pd.DataFrame(listdict)\n",
    "df2\n"
   ]
  },
  {
   "cell_type": "code",
   "execution_count": 17,
   "id": "fde80afb-d336-43ef-bc9b-ec3607285251",
   "metadata": {},
   "outputs": [
    {
     "data": {
      "text/html": [
       "<div>\n",
       "<style scoped>\n",
       "    .dataframe tbody tr th:only-of-type {\n",
       "        vertical-align: middle;\n",
       "    }\n",
       "\n",
       "    .dataframe tbody tr th {\n",
       "        vertical-align: top;\n",
       "    }\n",
       "\n",
       "    .dataframe thead th {\n",
       "        text-align: right;\n",
       "    }\n",
       "</style>\n",
       "<table border=\"1\" class=\"dataframe\">\n",
       "  <thead>\n",
       "    <tr style=\"text-align: right;\">\n",
       "      <th></th>\n",
       "      <th>a</th>\n",
       "      <th>b</th>\n",
       "      <th>c</th>\n",
       "      <th>d</th>\n",
       "      <th>e</th>\n",
       "    </tr>\n",
       "  </thead>\n",
       "  <tbody>\n",
       "    <tr>\n",
       "      <th>0</th>\n",
       "      <td>1</td>\n",
       "      <td>2</td>\n",
       "      <td>3</td>\n",
       "      <td>4</td>\n",
       "      <td>5</td>\n",
       "    </tr>\n",
       "    <tr>\n",
       "      <th>1</th>\n",
       "      <td>1000</td>\n",
       "      <td>2000</td>\n",
       "      <td>-1000</td>\n",
       "      <td>-5000</td>\n",
       "      <td>3000</td>\n",
       "    </tr>\n",
       "  </tbody>\n",
       "</table>\n",
       "</div>"
      ],
      "text/plain": [
       "      a     b     c     d     e\n",
       "0     1     2     3     4     5\n",
       "1  1000  2000 -1000 -5000  3000"
      ]
     },
     "execution_count": 17,
     "metadata": {},
     "output_type": "execute_result"
    }
   ],
   "source": [
    "# creation of dataframe from series\n",
    "series1 = pd.Series([1,2,3,4,5] , index = ['a' , 'b' , 'c' , 'd' , 'e'])\n",
    "series2 = pd.Series([1000,2000,-1000,-5000, 3000] , index = ['a' , 'b' , 'c' , 'd' , 'e'])\n",
    "df3 = pd.DataFrame(series1)\n",
    "df3.head()\n",
    "df4 = pd.DataFrame([series1 , series2])\n",
    "df4"
   ]
  },
  {
   "cell_type": "code",
   "execution_count": 19,
   "id": "9e50dc57-980d-4dc3-aefb-61f7e1fd494c",
   "metadata": {},
   "outputs": [
    {
     "data": {
      "text/html": [
       "<div>\n",
       "<style scoped>\n",
       "    .dataframe tbody tr th:only-of-type {\n",
       "        vertical-align: middle;\n",
       "    }\n",
       "\n",
       "    .dataframe tbody tr th {\n",
       "        vertical-align: top;\n",
       "    }\n",
       "\n",
       "    .dataframe thead th {\n",
       "        text-align: right;\n",
       "    }\n",
       "</style>\n",
       "<table border=\"1\" class=\"dataframe\">\n",
       "  <thead>\n",
       "    <tr style=\"text-align: right;\">\n",
       "      <th></th>\n",
       "      <th>Arnab</th>\n",
       "      <th>ramit</th>\n",
       "      <th>sahir</th>\n",
       "      <th>riya</th>\n",
       "      <th>mallika</th>\n",
       "    </tr>\n",
       "  </thead>\n",
       "  <tbody>\n",
       "    <tr>\n",
       "      <th>maths</th>\n",
       "      <td>90</td>\n",
       "      <td>92</td>\n",
       "      <td>89</td>\n",
       "      <td>81</td>\n",
       "      <td>94</td>\n",
       "    </tr>\n",
       "    <tr>\n",
       "      <th>science</th>\n",
       "      <td>91</td>\n",
       "      <td>81</td>\n",
       "      <td>91</td>\n",
       "      <td>67</td>\n",
       "      <td>95</td>\n",
       "    </tr>\n",
       "    <tr>\n",
       "      <th>hindi</th>\n",
       "      <td>97</td>\n",
       "      <td>96</td>\n",
       "      <td>88</td>\n",
       "      <td>71</td>\n",
       "      <td>99</td>\n",
       "    </tr>\n",
       "  </tbody>\n",
       "</table>\n",
       "</div>"
      ],
      "text/plain": [
       "         Arnab  ramit  sahir  riya  mallika\n",
       "maths       90     92     89    81       94\n",
       "science     91     81     91    67       95\n",
       "hindi       97     96     88    71       99"
      ]
     },
     "execution_count": 19,
     "metadata": {},
     "output_type": "execute_result"
    }
   ],
   "source": [
    "# creation of dataframe fro dicc tionary of series\n",
    "result = {'Arnab': pd.Series([90,91,97] , index = ['maths' , 'science' ,  'hindi']),\n",
    "         'ramit' : pd.Series([92,81,96] , index = ['maths' , 'science' ,  'hindi']),\n",
    "         'sahir':  pd.Series([89,91,88] , index = ['maths' , 'science' ,  'hindi']),\n",
    "         'riya':  pd.Series([81,67,71] , index = ['maths' , 'science' ,  'hindi']),\n",
    "          'mallika':pd.Series([94,95,99] , index = ['maths' , 'science' ,  'hindi'])}\n",
    "df5 = pd.DataFrame(result)\n",
    "df5\n"
   ]
  },
  {
   "cell_type": "code",
   "execution_count": null,
   "id": "3462b63a-dddf-40fb-ba2b-c469ba82724f",
   "metadata": {},
   "outputs": [],
   "source": [
    "# adding a new column to a Dataframe\n",
    "df5['dhruv']= []"
   ]
  },
  {
   "cell_type": "code",
   "execution_count": null,
   "id": "e2dc29ad-b3ed-4dfa-a4a1-2dd56f504173",
   "metadata": {},
   "outputs": [],
   "source": []
  }
 ],
 "metadata": {
  "kernelspec": {
   "display_name": "Python 3 (ipykernel)",
   "language": "python",
   "name": "python3"
  },
  "language_info": {
   "codemirror_mode": {
    "name": "ipython",
    "version": 3
   },
   "file_extension": ".py",
   "mimetype": "text/x-python",
   "name": "python",
   "nbconvert_exporter": "python",
   "pygments_lexer": "ipython3",
   "version": "3.12.4"
  }
 },
 "nbformat": 4,
 "nbformat_minor": 5
}
