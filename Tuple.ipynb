{
 "cells": [
  {
   "cell_type": "code",
   "execution_count": 5,
   "id": "d46af884-627e-4467-96fa-2a4b0872671e",
   "metadata": {},
   "outputs": [],
   "source": [
    "# Tuple items are ordered unchangeable and allow duplicate values and they are immutable"
   ]
  },
  {
   "cell_type": "code",
   "execution_count": 6,
   "id": "9086cfb6-ab4b-4a50-8995-8accccf0f94d",
   "metadata": {},
   "outputs": [
    {
     "name": "stdout",
     "output_type": "stream",
     "text": [
      "<class 'tuple'>\n",
      "8\n",
      "<class 'tuple'>\n"
     ]
    }
   ],
   "source": [
    "t = ( 1 , 2, 2, 3, 4, 5, 6, 6)\n",
    "print(type(t))\n",
    "print(len(t))\n",
    "t1 = ( 1 , 2  , 'a' , 'b' , True)\n",
    "print(type(t1))\n"
   ]
  },
  {
   "cell_type": "code",
   "execution_count": 7,
   "id": "e1b37992-13c0-4552-abad-e49fc329c09f",
   "metadata": {},
   "outputs": [
    {
     "name": "stdout",
     "output_type": "stream",
     "text": [
      "<class 'tuple'>\n"
     ]
    }
   ],
   "source": [
    "# When we need only need single element in tuple we just add s comma\n",
    "t = ('bharat' , )\n",
    "print(type(t))"
   ]
  },
  {
   "cell_type": "code",
   "execution_count": 11,
   "id": "96275677-59df-4118-808c-4fa23f4f1695",
   "metadata": {},
   "outputs": [
    {
     "data": {
      "text/plain": [
       "(3, 4, 5, 6, 6)"
      ]
     },
     "execution_count": 11,
     "metadata": {},
     "output_type": "execute_result"
    }
   ],
   "source": [
    "t = ( 1 , 2, 2, 3, 4, 5, 6, 6)\n",
    "t[3:]\n",
    "\n",
    "\n"
   ]
  },
  {
   "cell_type": "code",
   "execution_count": 12,
   "id": "db19d427-ab62-40b8-a168-0d4edeb2953b",
   "metadata": {},
   "outputs": [
    {
     "data": {
      "text/plain": [
       "(3, 4, 5, 6, 6)"
      ]
     },
     "execution_count": 12,
     "metadata": {},
     "output_type": "execute_result"
    }
   ],
   "source": [
    "t = ( 1 , 2, 2, 3, 4, 5, 6, 6)\n",
    "t [-5:]\n"
   ]
  },
  {
   "cell_type": "code",
   "execution_count": 17,
   "id": "fd4fe346-24c1-4b2b-a5f6-604beaf2445a",
   "metadata": {},
   "outputs": [
    {
     "data": {
      "text/plain": [
       "(1, 2, 2, 3, 4, 5, 6, 6)"
      ]
     },
     "execution_count": 17,
     "metadata": {},
     "output_type": "execute_result"
    }
   ],
   "source": [
    "t = ( 1 , 2, 2, 3, 4, 5, 6, 6)\n",
    "t"
   ]
  },
  {
   "cell_type": "code",
   "execution_count": 18,
   "id": "cc0639f6-dc81-4385-b42e-00525b87b1a2",
   "metadata": {},
   "outputs": [
    {
     "data": {
      "text/plain": [
       "(1, 2, 2, 3, 4, 5)"
      ]
     },
     "execution_count": 18,
     "metadata": {},
     "output_type": "execute_result"
    }
   ],
   "source": [
    "t[:-2]"
   ]
  },
  {
   "cell_type": "code",
   "execution_count": 31,
   "id": "4237b149-8f4f-4f73-be37-baf1be5e2f64",
   "metadata": {},
   "outputs": [
    {
     "name": "stdout",
     "output_type": "stream",
     "text": [
      "<class 'tuple'>\n"
     ]
    }
   ],
   "source": [
    "# How to change a tuple \n",
    "t1 = ('a' , 'b' , 'c',  'd')\n",
    "print(type(a))\n"
   ]
  },
  {
   "cell_type": "code",
   "execution_count": 32,
   "id": "c6209d7d-a051-494d-bb2d-21eb46d7a9ea",
   "metadata": {},
   "outputs": [
    {
     "name": "stdout",
     "output_type": "stream",
     "text": [
      "['a', 'b', 'c', 'd']\n",
      "<class 'list'>\n"
     ]
    }
   ],
   "source": [
    "l1 = list(t1)\n",
    "print(l1)\n",
    "print(type(l1))"
   ]
  },
  {
   "cell_type": "code",
   "execution_count": 33,
   "id": "2141dcb2-dbd9-46ef-91a2-20f11d10b8c3",
   "metadata": {},
   "outputs": [
    {
     "name": "stdout",
     "output_type": "stream",
     "text": [
      "['a', 'b', 'c', 'f', 'd']\n"
     ]
    }
   ],
   "source": [
    "l1.insert(3,'f')\n",
    "print(l1)\n"
   ]
  },
  {
   "cell_type": "code",
   "execution_count": 34,
   "id": "efb3e188-198c-4b23-bd2a-012f14c4c722",
   "metadata": {},
   "outputs": [
    {
     "name": "stdout",
     "output_type": "stream",
     "text": [
      "('a', 'b', 'c', 'f', 'd')\n",
      "<class 'tuple'>\n"
     ]
    }
   ],
   "source": [
    "t1 = tuple(l1)\n",
    "print(t1)\n",
    "print(type(t1))"
   ]
  },
  {
   "cell_type": "code",
   "execution_count": 36,
   "id": "5befe354-995f-4ad9-8cee-bb2fc6dc917d",
   "metadata": {},
   "outputs": [],
   "source": [
    "t1 = list(t1)"
   ]
  },
  {
   "cell_type": "code",
   "execution_count": 37,
   "id": "d4867b3b-a0a9-4ead-a083-d490c1750cb6",
   "metadata": {},
   "outputs": [
    {
     "name": "stdout",
     "output_type": "stream",
     "text": [
      "<class 'list'>\n"
     ]
    }
   ],
   "source": [
    "print(type(t1))"
   ]
  },
  {
   "cell_type": "code",
   "execution_count": 40,
   "id": "854e75a2-cff7-4181-9ee6-915bfb1b8b46",
   "metadata": {},
   "outputs": [],
   "source": [
    "# Adding Tuple To Tuple\n",
    "\n",
    "t1.append(\"Love you Python\")"
   ]
  },
  {
   "cell_type": "code",
   "execution_count": 39,
   "id": "53bd94d8-3603-4058-839c-b406c088474c",
   "metadata": {},
   "outputs": [
    {
     "name": "stdout",
     "output_type": "stream",
     "text": [
      "['a', 'b', 'c', 'f', 'd', 'Love you Python']\n"
     ]
    }
   ],
   "source": [
    "print(t1)"
   ]
  },
  {
   "cell_type": "code",
   "execution_count": 44,
   "id": "8f0d7d42-1515-46f7-9c6d-9a0c5fdd36c3",
   "metadata": {},
   "outputs": [
    {
     "ename": "NameError",
     "evalue": "name 't1' is not defined",
     "output_type": "error",
     "traceback": [
      "\u001b[1;31m---------------------------------------------------------------------------\u001b[0m",
      "\u001b[1;31mNameError\u001b[0m                                 Traceback (most recent call last)",
      "Cell \u001b[1;32mIn[44], line 3\u001b[0m\n\u001b[0;32m      1\u001b[0m \u001b[38;5;66;03m# Deleting the whole tuple\u001b[39;00m\n\u001b[1;32m----> 3\u001b[0m \u001b[38;5;28;01mdel\u001b[39;00m t1\n",
      "\u001b[1;31mNameError\u001b[0m: name 't1' is not defined"
     ]
    }
   ],
   "source": [
    "# Deleting the whole tuple\n",
    "\n",
    "del t1\n",
    "\n",
    "\n",
    "\n"
   ]
  },
  {
   "cell_type": "code",
   "execution_count": 1,
   "id": "4beae975-c6e0-4f4d-be8d-708d0c4f2381",
   "metadata": {},
   "outputs": [
    {
     "name": "stdout",
     "output_type": "stream",
     "text": [
      "(1, 2, 3, 'ram', 'shyam', 'radha', 1, 2, 3, 'ram', 'shyam', 'radha')\n"
     ]
    }
   ],
   "source": [
    "# this multiplies the data of a tuple\n",
    "ac = ( 1, 2, 3, 'ram', 'shyam' ,  'radha') \n",
    "s = ac * 2 \n",
    "print(s)"
   ]
  },
  {
   "cell_type": "code",
   "execution_count": 2,
   "id": "ae1351c5-0bb3-4b93-9e86-525848b9d043",
   "metadata": {},
   "outputs": [
    {
     "name": "stdout",
     "output_type": "stream",
     "text": [
      "(1, 2, 3, 'ram', 'shyam', 'radha', 1, 2, 3, 'ram', 'shyam', 'radha', 1, 2, 3, 'ram', 'shyam', 'radha', 1, 2, 3, 'ram', 'shyam', 'radha', 1, 2, 3, 'ram', 'shyam', 'radha')\n"
     ]
    }
   ],
   "source": [
    "m = ac * 5 \n",
    "print(m)\n"
   ]
  },
  {
   "cell_type": "code",
   "execution_count": 3,
   "id": "cb5af2bc-91d8-4546-9761-72fa65fcae28",
   "metadata": {},
   "outputs": [
    {
     "data": {
      "text/plain": [
       "4"
      ]
     },
     "execution_count": 3,
     "metadata": {},
     "output_type": "execute_result"
    }
   ],
   "source": [
    "# The count() method returns the number of times a specified value appears in the tuple\n",
    "the  = ( 1, 2, 3, 4, 5, 6, 7, 8 , 2, 2, 4 ,3, 2)\n",
    "of = the.count(2)\n",
    "of"
   ]
  },
  {
   "cell_type": "code",
   "execution_count": 5,
   "id": "0f4136c2-0094-42f2-af26-d0021d936735",
   "metadata": {},
   "outputs": [
    {
     "data": {
      "text/plain": [
       "7"
      ]
     },
     "execution_count": 5,
     "metadata": {},
     "output_type": "execute_result"
    }
   ],
   "source": [
    "# this index() method finds the first occurrence of the specified  value\n",
    "the  = ( 1, 2, 3, 4, 5, 6, 7, 8 , 2, 2, 4 ,3, 2)\n",
    "no = the.index(8)\n",
    "no\n"
   ]
  },
  {
   "cell_type": "code",
   "execution_count": null,
   "id": "abdb9aff-5188-4ad2-ad9d-51be31d18b01",
   "metadata": {},
   "outputs": [],
   "source": []
  }
 ],
 "metadata": {
  "kernelspec": {
   "display_name": "Python 3 (ipykernel)",
   "language": "python",
   "name": "python3"
  },
  "language_info": {
   "codemirror_mode": {
    "name": "ipython",
    "version": 3
   },
   "file_extension": ".py",
   "mimetype": "text/x-python",
   "name": "python",
   "nbconvert_exporter": "python",
   "pygments_lexer": "ipython3",
   "version": "3.12.4"
  }
 },
 "nbformat": 4,
 "nbformat_minor": 5
}
